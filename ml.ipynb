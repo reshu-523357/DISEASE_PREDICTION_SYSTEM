{
 "cells": [
  {
   "cell_type": "code",
   "execution_count": 1,
   "metadata": {},
   "outputs": [],
   "source": [
    "import pandas as pd \n",
    "import numpy as np \n",
    "import streamlit as st\n",
    "import joblib as jb"
   ]
  },
  {
   "cell_type": "code",
   "execution_count": 3,
   "metadata": {},
   "outputs": [],
   "source": [
    "df=pd.read_csv(\"dataset/Training.csv\")"
   ]
  },
  {
   "cell_type": "code",
   "execution_count": 6,
   "metadata": {},
   "outputs": [
    {
     "data": {
      "text/plain": [
       "Index(['itching', 'skin_rash', 'nodal_skin_eruptions', 'continuous_sneezing',\n",
       "       'shivering', 'chills', 'joint_pain', 'stomach_pain', 'acidity',\n",
       "       'ulcers_on_tongue',\n",
       "       ...\n",
       "       'blackheads', 'scurring', 'skin_peeling', 'silver_like_dusting',\n",
       "       'small_dents_in_nails', 'inflammatory_nails', 'blister',\n",
       "       'red_sore_around_nose', 'yellow_crust_ooze', 'prognosis'],\n",
       "      dtype='object', length=133)"
      ]
     },
     "execution_count": 6,
     "metadata": {},
     "output_type": "execute_result"
    }
   ],
   "source": [
    "df.columns"
   ]
  },
  {
   "cell_type": "code",
   "execution_count": 10,
   "metadata": {},
   "outputs": [
    {
     "data": {
      "text/plain": [
       "Index(['itching', 'skin_rash', 'nodal_skin_eruptions', 'continuous_sneezing',\n",
       "       'shivering', 'chills', 'joint_pain', 'stomach_pain', 'acidity',\n",
       "       'ulcers_on_tongue',\n",
       "       ...\n",
       "       'blackheads', 'scurring', 'skin_peeling', 'silver_like_dusting',\n",
       "       'small_dents_in_nails', 'inflammatory_nails', 'blister',\n",
       "       'red_sore_around_nose', 'yellow_crust_ooze', 'prognosis'],\n",
       "      dtype='object', length=133)"
      ]
     },
     "execution_count": 10,
     "metadata": {},
     "output_type": "execute_result"
    }
   ],
   "source": [
    "df=pd.read_csv(\"dataset/Testing.csv\")\n",
    "df.columns"
   ]
  },
  {
   "cell_type": "code",
   "execution_count": 14,
   "metadata": {},
   "outputs": [],
   "source": [
    "# Load your machine learning model and data_dict\n",
    "model, data_dict = jb.load('disease_prediction_model.joblib')\n",
    "\n",
    "# Load the dataset to extract symptoms\n",
    "DATA_PATH = \"dataset/Training.csv\"\n",
    "data = pd.read_csv(DATA_PATH).dropna(axis=1)\n",
    "\n",
    "# Extract symptom list from dataset columns\n",
    "symptoms_list = list(data.columns[:-1])  # Exclude the 'prognosis' column\n",
    "\n",
    "# Map dataset columns to user-friendly symptom names\n",
    "symptom_index = { \" \".join([i.capitalize() for i in symptom.split(\"_\")]): symptom for symptom in symptoms_list }"
   ]
  },
  {
   "cell_type": "code",
   "execution_count": 15,
   "metadata": {},
   "outputs": [],
   "source": [
    "# Function to make predictions\n",
    "def predict_disease(symptoms):\n",
    "    predictions_classes = data_dict[\"predictions_classes\"]\n",
    "    \n",
    "    # Initialize input data with zeros\n",
    "    input_data = [0] * len(symptom_index)\n",
    "    \n",
    "    # Set input data based on symptoms\n",
    "    for symptom in symptoms:\n",
    "        symptom = symptom.strip()\n",
    "        if symptom in symptom_index:\n",
    "            index = symptoms_list.index(symptom_index[symptom])\n",
    "            input_data[index] = 1\n",
    "\n",
    "    # Reshape the input data and make prediction\n",
    "    input_data = np.array(input_data).reshape(1, -1)\n",
    "    \n",
    "    # Generate individual outputs\n",
    "    rf_prediction = predictions_classes[model.predict(input_data)[0]]\n",
    "    \n",
    "    return rf_prediction"
   ]
  },
  {
   "cell_type": "code",
   "execution_count": 20,
   "metadata": {},
   "outputs": [],
   "source": [
    "def main():\n",
    "    st.title(\"Disease Prediction System\")\n",
    "\n",
    "    st.header(\"Enter Patient Data\")\n",
    "\n",
    "    # Gender input\n",
    "    gender = st.selectbox(\"Gender\", [\"Male\", \"Female\", \"Other\"])\n",
    "\n",
    "    # Age input\n",
    "    age = st.number_input(\"Age\", min_value=0, max_value=120)\n",
    "\n",
    "    # Symptoms input\n",
    "    symptoms = st.multiselect(\"Symptoms\", list(symptom_index.keys()))\n",
    "\n",
    "    # Create a button for making predictions\n",
    "    if st.button(\"Predict\"):\n",
    "        prediction = predict_disease(symptoms)\n",
    "        st.success(f\"The predicted disease is: {prediction}\")\n",
    "\n",
    "if __name__ == \"__main__\":\n",
    "    main()"
   ]
  }
 ],
 "metadata": {
  "kernelspec": {
   "display_name": "Python 3",
   "language": "python",
   "name": "python3"
  },
  "language_info": {
   "codemirror_mode": {
    "name": "ipython",
    "version": 3
   },
   "file_extension": ".py",
   "mimetype": "text/x-python",
   "name": "python",
   "nbconvert_exporter": "python",
   "pygments_lexer": "ipython3",
   "version": "3.12.1"
  }
 },
 "nbformat": 4,
 "nbformat_minor": 2
}
